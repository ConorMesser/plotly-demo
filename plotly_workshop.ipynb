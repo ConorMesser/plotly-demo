{
 "cells": [
  {
   "cell_type": "markdown",
   "id": "38b63369",
   "metadata": {},
   "source": [
    "# Plotly Workshop Tutorial\n",
    " \n",
    "Welcome to CodeRATS's Plotly workshop! This consists of two parts:\n",
    "- Part 1: Code-together\n",
    "    - Part 1a: Basics of python and plotly.express\n",
    "    - Part 1b: Advanced Plotly features with Plotly Graph Objects\n",
    "- Part 2: Bring your own code \n"
   ]
  },
  {
   "cell_type": "markdown",
   "id": "28e24e95",
   "metadata": {},
   "source": [
    "# Part 1a: Basics of python and plotly\n",
    "\n",
    "Plotly makes figures in 4 steps:\n",
    "1. Making a \"canvas\" or \"figure\" to draw on\n",
    "2. Adds in your data points\n",
    "3. Customize your visual (colors, point symbols, axes names and titles, etc.)\n",
    "4. Annotate the visual \n",
    "\n",
    "There are two versions of Plotly:\n",
    "- Plotly Express: super easy to use\n",
    "- Plotly Graph Objects (GO): more customizable\n",
    "\n",
    "We will start off with using Plotly Express to make a scatter plot"
   ]
  },
  {
   "cell_type": "code",
   "execution_count": null,
   "id": "f5f1753f",
   "metadata": {
    "pycharm": {
     "is_executing": true
    }
   },
   "outputs": [],
   "source": [
    "# import packages\n",
    "import pandas as pd\n",
    "import plotly.express as px"
   ]
  },
  {
   "cell_type": "code",
   "execution_count": null,
   "id": "95e815c8",
   "metadata": {},
   "outputs": [],
   "source": [
    "# Step 1: load your data \n",
    "df = px.data.iris()  # reads in data as pandas dataframe (like a table)\n",
    "display(df)"
   ]
  },
  {
   "cell_type": "markdown",
   "id": "0dc1b2cc",
   "metadata": {},
   "source": [
    "Let's compare petal width (`petal_width`) to petal length (`petal_length`) in a scatter plot. Run the following code block, and notice that you made a scatter plot in two lines of code!\n",
    "\n",
    "Try out different viewing methods:\n",
    "- Hovering your mouse over the points to get the exact data used to plot it\n",
    "- Selecting the 'zoom' option in top right menu (magnifying glass) and zoom in on a regions you want to view by clicking and dragging your mouse\n",
    "- Selecting 'Pan' option in top right menu (coordiate axes), and move around the plot by clicking and dragging\n",
    "- Reset view by clicking 'Autoscale' in the top right menu (next to the home figure)"
   ]
  },
  {
   "cell_type": "code",
   "execution_count": null,
   "id": "44aae307",
   "metadata": {},
   "outputs": [],
   "source": [
    "# 1. Make the figure\n",
    "fig = px.scatter(df,               # df: a pandas dataframe with the data you want to plot. Rows are \"samples\" and columns are \"features\" you want to plot, categorize, etc.\n",
    "                 x=\"petal_width\",  # x: name of column in df you want to use in the x-axis of the scatter plot\n",
    "                 y=\"petal_length\") # y: name of column in df you want to use in the y-axis of the scatter plot\n",
    "\n",
    "# 2. Show the figure in the notebook\n",
    "fig.show()"
   ]
  },
  {
   "cell_type": "markdown",
   "id": "169830bf",
   "metadata": {},
   "source": [
    "Say you want to color these points by `species`. It is as simple as including the `color=` parameter into `px.scater(...)`. plotly.express will automatically color the points according to the data under the `species` column in your dataframe, and include a legend.\n",
    "\n",
    "**Try:**\n",
    "- Clicking on one of the datapoints in the legend to remove that group of points from the plot. Click again to make it appear\n",
    "- Instead of `color`, use `symbol` to discriminate the points coming from different `species`. \n",
    "    - BONUS: specify which symbols to use using `symbol_sequence` or `symbol map` - can you figure out the difference between the two arguments?\n",
    "        - Symbol types described at https://plotly.com/python/marker-style/#custom-marker-symbols\n",
    "- Add `hover_data=[\"sepal_length\", \"sepal_width\"]` into `px.scatter(...)` so when you hover over the points, you can also see the `sepal_length` and `sepal_width` values for that point.\n",
    "- Add marginal plots to supplement your scatter plot by adding `marginal_y=\"violin\"` and `marginal_x=\"box\"` into `px.scatter(...)`. More documentation and options described at https://plotly.com/python/marginal-plots/\n",
    "- Add a title and change the default axis names (find how to do it at https://plotly.com/python/figure-labels/)\n"
   ]
  },
  {
   "cell_type": "code",
   "execution_count": null,
   "id": "fda0d183",
   "metadata": {
    "scrolled": false
   },
   "outputs": [],
   "source": [
    "# 1. Make the figure\n",
    "fig = px.scatter(df,               \n",
    "                 x=\"petal_width\",  \n",
    "                 y=\"petal_length\",\n",
    "                 # color=\n",
    "                ) \n",
    "\n",
    "# 2. Show the figure in the notebook\n",
    "fig.show()"
   ]
  },
  {
   "cell_type": "markdown",
   "id": "5453223c",
   "metadata": {},
   "source": [
    "Try some of the other plotly.express plots! View some of the basic options:\n",
    "- https://www.geeksforgeeks.org/python-plotly-tutorial/\n",
    "- https://plotly.com/python/plotly-express/"
   ]
  },
  {
   "cell_type": "markdown",
   "id": "5a4c69fd",
   "metadata": {},
   "source": [
    "# Part 1b: Advanced Plotly features with Plotly Graph Objects\n",
    "\n",
    "Plotly express is great for quickly making a plot for exploring your data. Sometimes, you need a cleaner figure, or you just want to plot something more complicated. Plotly Graph Objects allows you to work directly with plotly figure components so you can easily customize.\n",
    "\n",
    "Let's make a scatter plot again, but this time with plotly graph objects. We will be loosely following this tutorial: https://towardsdatascience.com/tutorial-on-building-professional-scatter-graphs-in-plotly-python-abe33923f557"
   ]
  },
  {
   "cell_type": "code",
   "execution_count": null,
   "id": "e8f8bbc2",
   "metadata": {},
   "outputs": [],
   "source": [
    "# import the plotly graph objects package\n",
    "import plotly.graph_objects as go"
   ]
  },
  {
   "cell_type": "markdown",
   "id": "4409e836",
   "metadata": {},
   "source": [
    "Step 1: Initialize your figure and add data to your plot. To do this, we use `add_trace(...)`. A `trace` is like a layer of data (or a graph object) to add to the figure. You can call `fig.add_trace(...)` multiple times to add multiple `traces` (say a scatter plot overlaying a bar plot). Other helper methods exist such as `add_shape(...)` and `add_hline(...)`; we will get to those later.\n",
    "\n",
    "For now, we will only add one trace, which will be a scatter plot. To make this, we will call `go.Scatter(...)` to make a scatter plot graph object. Then we will add this scatter graph object to our figure `my_fig` using `my_fig.add_trace(...)`."
   ]
  },
  {
   "cell_type": "code",
   "execution_count": null,
   "id": "20855ca9",
   "metadata": {},
   "outputs": [],
   "source": [
    "# Step 1: make the figure\n",
    "my_fig = go.Figure()\n",
    "\n",
    "# Step 2: Add data.\n",
    "scatter_graph_object = go.Scatter(x = df[\"petal_width\"], \n",
    "                                  y = df[\"petal_length\"],\n",
    "                                  \n",
    "                                  # mode can be one of \"markers\", \"lines\", \"lines+markers\", \"lines+markers+text\"\n",
    "                                  # what do the others look like?\n",
    "                                  mode = \"markers\",  \n",
    "                                 )\n",
    "print(f'scatter_graph_object is a {type(scatter_graph_object)}')"
   ]
  },
  {
   "cell_type": "code",
   "execution_count": null,
   "id": "16b59fa4",
   "metadata": {
    "scrolled": false
   },
   "outputs": [],
   "source": [
    "my_fig.add_trace(scatter_graph_object)\n",
    "my_fig.show()"
   ]
  },
  {
   "cell_type": "markdown",
   "id": "b5d0e1a3",
   "metadata": {},
   "source": [
    "Note that the graph object does not take in a pandas dataframe (like in plotly express); instead the data is defined directly as an array (or a pandas Series). This is slightly inconvenient but also much more flexible. Also note that unlike plotly express, plotly graph objects do not generate a graph title or axis title. These need to be explicitly defined.\n",
    "\n",
    "To do this, call `update_layout(...)`. Check out the documentation at https://plotly.com/python/figure-labels/ and https://plotly.com/python/axes, and make the following updates:\n",
    "\n",
    "1. Add in graph title and axis titles with specified font sizes\n",
    "1. Adjust position of graph title\n",
    "1. Change the background color to white\n",
    "1. Change the line color of the axes from white to gray\n",
    "1. Change the color of all text on the graph to gray\n",
    "1. Change the color of the data points to a darker shade of blue, so they stand out more\n",
    "\n",
    "All the CSS named colors can be found at https://developer.mozilla.org/en-US/docs/Web/CSS/color_value\n",
    "\n"
   ]
  },
  {
   "cell_type": "code",
   "execution_count": null,
   "id": "54f2ee12",
   "metadata": {},
   "outputs": [],
   "source": [
    "my_fig.update_layout(\n",
    "    # title={ ... }\n",
    "    # plot_bgcolor = \n",
    "    # xaxis = { ... }  # The x-axis can be updated in the update_layout() method or in its own update_xaxes() method\n",
    "    # yaxis = { ... }  # Similar for the y-axis\n",
    ")\n",
    "\n",
    "# The color of the data points is tied to the figure trace; so the update_traces() method must be used to change the marker_color\n",
    "my_fig.update_traces()\n",
    "\n",
    "my_fig.show()"
   ]
  },
  {
   "cell_type": "markdown",
   "id": "8859de29",
   "metadata": {},
   "source": [
    "Let's look at the underlying data structure of a graph_object Figure. Try examining `my_fig.data` and `my_fig.layout`"
   ]
  },
  {
   "cell_type": "code",
   "execution_count": null,
   "id": "721c494b",
   "metadata": {},
   "outputs": [],
   "source": [
    "my_fig.data"
   ]
  },
  {
   "cell_type": "code",
   "execution_count": null,
   "id": "9ebc68ce",
   "metadata": {},
   "outputs": [],
   "source": [
    "my_fig.layout"
   ]
  },
  {
   "cell_type": "markdown",
   "id": "0fc02d48",
   "metadata": {},
   "source": [
    "Was this what you expected? The plotly figures are built upon nested-dictionaries (and lists to store multiple traces) and can be inspected and modified just like normal dicts and lists. I don't recommend trying to create/modify a Figure from scratch; methods exist for a reason. But viewing the underlying data can be helpful to remember a attribute name or understand the current data state."
   ]
  },
  {
   "cell_type": "markdown",
   "id": "9cb5887d",
   "metadata": {},
   "source": [
    "Next we want to distinguish the points by category. Plotly express does this automatically if you pass a column name to the `color` or `symbol` parameters. Using graph_objects, similarly to how you updated the `marker_color` above with a single value, you could pass a list instead, giving the desired color of each point (based on its category). Similar techniques could be used to change the marker size or symbol as well. However, adding in a _separate trace_ for each category is usually easier to deal with when making other updates later on.\n",
    "\n",
    "The approach here is to use a `for` loop. For each unique category, make a new trace (scatter plot graph object) with the corresponding data from your table and add it to your figure."
   ]
  },
  {
   "cell_type": "code",
   "execution_count": null,
   "id": "3cb04472",
   "metadata": {},
   "outputs": [],
   "source": [
    "unique_species = pd.unique(df['species']).tolist()  # Get the unique values in the species column of your data\n",
    "print(unique_species)"
   ]
  },
  {
   "cell_type": "markdown",
   "id": "a2c999ea",
   "metadata": {},
   "source": [
    "You will need to specify the colors to use to plot each category. For now, we will make a dictionary with the species as the `key` and the color (this time in hexcode) as the `value`. View more colors at https://htmlcolorcodes.com/."
   ]
  },
  {
   "cell_type": "code",
   "execution_count": null,
   "id": "9be4f3df",
   "metadata": {},
   "outputs": [],
   "source": [
    "# specify colors\n",
    "species_colors_dict = {'setosa': \"#color_1\", \n",
    "                       'versicolor': \"#color_2\", \n",
    "                       'virginica': \"#color_3\"\n",
    "                      }\n",
    "\n",
    "# initialize figure\n",
    "fig_species_colored = go.Figure()\n",
    "\n",
    "# add traces\n",
    "for species in unique_species:\n",
    "    # Get only the rows in df where the species value matches the current species\n",
    "    species_df = df  #.loc[...]  \n",
    "    \n",
    "    # Add a scatter graph object\n",
    "    fig_species_colored.add_trace(go.Scatter(x = species_df[\"petal_width\"], # Using only the data corresponding to the current species\n",
    "                                             y = species_df[\"petal_length\"],\n",
    "                                             mode = \"markers\",\n",
    "                                             name = species, # label the points with the species name. Default will be trace_0, trace_2, etc.\n",
    "                                             marker = dict(color = species_colors_dict[species]) # Using the species_colors_dict to get the corresponding color for this species\n",
    "                                            )\n",
    "                                 )\n",
    "#####\n",
    "\n",
    "# update figure layout\n",
    "fig_species_colored.update_layout(plot_bgcolor = \"white\",  # background color\n",
    "                                  font = dict(color = \"#909497\"),\n",
    "                                  title = dict(text = \"Iris Petal Sizes\", font_size=30),\n",
    "                                  xaxis = dict(title = \"Petal Width\", linecolor = \"#909497\"),\n",
    "                                  yaxis = dict(title = \"Petal Length\", linecolor = \"#909497\"))\n",
    "    "
   ]
  },
  {
   "cell_type": "markdown",
   "id": "34ecd503",
   "metadata": {},
   "source": [
    "Maybe it would be easier to view graph if each species had its own plot. However, we still want to be able to compare them. A subplot will allow us to arrange multiple plots on the same figure. Check out this link before continuing: https://plotly.com/python/subplots/#subplots-with-shared-yaxes"
   ]
  },
  {
   "cell_type": "code",
   "execution_count": null,
   "id": "7710424f",
   "metadata": {},
   "outputs": [],
   "source": [
    "from plotly.subplots import make_subplots"
   ]
  },
  {
   "cell_type": "code",
   "execution_count": null,
   "id": "db8821bf",
   "metadata": {},
   "outputs": [],
   "source": [
    "#create the blank graph object with make_subplots(...) instead of go.Figure()\n",
    "fig_subplots = make_subplots(rows = 1, \n",
    "                             # cols = ,           # provide the dimensions of the subplot\n",
    "                             shared_yaxes=True,\n",
    "                             # subplot_titles= ,  # give each subplot a title\n",
    "                             horizontal_spacing=0.07)  \n",
    "\n",
    "\n",
    "# like before, iterate through each category (species)\n",
    "for i, species in enumerate(unique_species): # i = 0, 1, 2\n",
    "    # Get only the rows in df where the species value matches the current species\n",
    "    species_df = df.loc[df['species'] == species]  \n",
    "    \n",
    "    # Add a scatter graph object\n",
    "    fig_subplots.add_trace(  # add the same go.Scatter() object as before\n",
    "                             # this time, specify which row and col to assign the trace to\n",
    "                             # notice that subplots use 1-indexing convention\n",
    "                          )\n",
    "#####\n",
    "\n",
    "# Update layout\n",
    "fig_subplots.update_layout(plot_bgcolor = \"white\",  # background color\n",
    "                           font = dict(color = \"#909497\"),\n",
    "                           title = dict(text = \"Iris Petal Sizes\", font_size=30),\n",
    "                           )\n",
    "\n",
    "# Update all the subplots' axes at the same time\n",
    "fig_subplots.update_xaxes(title = \"Petal Width\", linecolor = \"#909497\")\n",
    "fig_subplots.update_yaxes(title = \"Petal Length\", linecolor = \"#909497\")\n",
    "\n"
   ]
  },
  {
   "cell_type": "markdown",
   "id": "b749f9bf",
   "metadata": {},
   "source": [
    "Plot still looks a little busy with all the redundant axes labels. The legend is also redundant since we already have the data separated out. To make it look nicer, we will:\n",
    "\n",
    "1. Remove the legend\n",
    "1. Remove the duplicated axis titles\n",
    "1. Remove axes lines\n",
    "1. Ensure all subplots are displaying a consistent range for both axes"
   ]
  },
  {
   "cell_type": "code",
   "execution_count": null,
   "id": "4dc6e211",
   "metadata": {},
   "outputs": [],
   "source": [
    "fig_subplots_clean = go.Figure(fig_subplots)\n",
    "\n",
    "# Remove legend (set showlegend to False)\n",
    "fig_subplots_clean.update_layout()     \n",
    "\n",
    "# manually set the x-axis range and remove axis title and line\n",
    "fig_subplots_clean.update_xaxes(title_text= '',\n",
    "                                # showline = , \n",
    "                                # range = ,          # [xaxis minimum, xaxis maximum]\n",
    "                                # tickvals =         # list of values to add tick marks\n",
    "                               )\n",
    "# remove y-axis title and line\n",
    "fig_subplots_clean.update_yaxes(title_text= '',\n",
    "                                #showline =  \n",
    "                                )\n",
    "\n",
    "# use the add_annotations() command to generate both the x-axis and y-axis titles instead of update_axes(title = ...) and update_yaxes(title = ...)\n",
    "# Allows for more precise control of placement\n",
    "\n",
    "#x axis title\n",
    "fig_subplots_clean.add_annotation(text = \"Petal Width\",\n",
    "                                  xref = \"paper\",\n",
    "                                  yref = \"paper\",\n",
    "                                  x = 0.8,    # modify values to place correctly\n",
    "                                  y = -0.03,\n",
    "                                  showarrow = False)\n",
    "\n",
    "#y axis title\n",
    "fig_subplots_clean.add_annotation(text = \"Petal Length\",\n",
    "                                  xref = \"paper\",\n",
    "                                  yref = \"paper\",\n",
    "                                  x = -0.03,   # modify values to place correctly\n",
    "                                  y = 0.2,\n",
    "                                  showarrow = False,\n",
    "                                  textangle = -90)\n",
    "\n",
    "fig_subplots_clean.show()"
   ]
  },
  {
   "cell_type": "markdown",
   "id": "d4ccc606",
   "metadata": {},
   "source": [
    "Lastly, let's add a few finishing touches:\n",
    "\n",
    "1. Add all data points to each subplot\n",
    "1. Add additional information to the hover labels and fix the format (read more here: https://plotly.com/python/hover-text-and-formatting/#customizing-hover-text-with-a-hovertemplate)\n",
    "1. Make the titles look better\n",
    "1. Add signature\n",
    "\n",
    "Other than adding your name in the signature, the code in this cell is all present and correct. Feel free to change some values to see what happens or try adding additional layout specifications."
   ]
  },
  {
   "cell_type": "code",
   "execution_count": null,
   "id": "ef2b43e4",
   "metadata": {},
   "outputs": [],
   "source": [
    "import numpy as np\n",
    "fig_subplots_fancy = go.Figure(fig_subplots_clean)\n",
    "\n",
    "# iterate through the columns to add all the points in gray\n",
    "for i in range(len(unique_species)): # i = 0, 1, 2\n",
    "    species = unique_species[i]\n",
    "    \n",
    "    # Plot all the points in dataframe in gray\n",
    "    fig_subplots_fancy.add_trace(go.Scatter(x = df[\"petal_width\"],  # full df\n",
    "                                            y = df[\"petal_length\"],\n",
    "                                            mode = \"markers\",\n",
    "                                            name = \"all_points\", \n",
    "                                            marker = dict(color = \"#909497\"),  # gray color\n",
    "                                            opacity = 0.3, # Setting this trace to be more transparent\n",
    "                                            \n",
    "                                            # we can provide additional data to reference in the hover labels\n",
    "                                            customdata = np.stack((df['sepal_width'],\n",
    "                                                                   df['sepal_length'],\n",
    "                                                                   df['species']),\n",
    "                                                                  axis=-1),\n",
    "                                            \n",
    "                                            # this template defines the structure of the hover labels\n",
    "                                            hovertemplate='Petal Width: %{x:.2f} <br>' +\n",
    "                                                          'Petal Length: %{y:.2f} <br>' +\n",
    "                                                          'Sepal Width: %{customdata[0]:.2f} <br>' +\n",
    "                                                          'Sepal Length: %{customdata[1]:.2f} <br>' +\n",
    "                                                          '<extra>%{customdata[2]}</extra>',\n",
    "                                            hoverlabel={'bgcolor': 'white'}\n",
    "                                           ),\n",
    "                                 row = 1,    \n",
    "                                 col = i + 1,\n",
    "                                )\n",
    "    \n",
    "#sub-title annotation\n",
    "for i, species in enumerate(unique_species):\n",
    "    fig_subplots_fancy.add_annotation(text = species,\n",
    "                                      xref = f'x{i+1}',\n",
    "                                      yref = \"paper\",\n",
    "                                      x = 20,\n",
    "                                      y = 1.02,\n",
    "                                      showarrow = False,\n",
    "                                      xanchor = \"left\",\n",
    "                                      font = dict(size = 14, color = \"#404647\")\n",
    "                                     )\n",
    "\n",
    "    \n",
    "#create author of the graph\n",
    "fig_subplots_fancy.add_annotation(text = \"Author: My name\", # add your name!\n",
    "                                  xref = \"paper\",\n",
    "                                  yref = \"paper\",\n",
    "                                  x = 1.005,\n",
    "                                  y = -0.145,\n",
    "                                  showarrow = False,\n",
    "                                  font = dict(size = 12),\n",
    "                                  align = \"right\",\n",
    "                                  xanchor = \"right\")\n",
    "\n",
    "fig_subplots_fancy.show()\n"
   ]
  },
  {
   "cell_type": "markdown",
   "id": "a0e86b4b",
   "metadata": {},
   "source": [
    "Finally, let's save your figure! You can easily download your plot as a png by clicking on the camera icon on the top right. If you want your figure saved as an svg or pdf (or other image format), you will use the `write_image(...)` method. To utilize this functionality, you may need to install an additional dependency `kaleido`. There can some issues in getting this package to work, however. Let us know if you need help!"
   ]
  },
  {
   "cell_type": "code",
   "execution_count": null,
   "id": "f585f1a0",
   "metadata": {},
   "outputs": [],
   "source": [
    "fig_subplots_fancy.write_image('final_image.svg', height=500, width=800)"
   ]
  },
  {
   "cell_type": "markdown",
   "id": "0a6c9100",
   "metadata": {},
   "source": [
    "# Part 2: BYOC\n",
    "\n",
    "Now it's your turn! Keep playing around with the iris dataset and try other plots (we would especially recommend boxplots https://plotly.com/python/box-plots/ or heatmaps https://plotly.com/python/heatmaps/). \n",
    "\n",
    "**OR** \n",
    "\n",
    "Load in your own data you want to visualize."
   ]
  },
  {
   "cell_type": "code",
   "execution_count": null,
   "id": "eef82e28",
   "metadata": {},
   "outputs": [],
   "source": [
    "# Step 1: Load your data\n",
    "\n",
    "# Step 2: Format or annotate data\n",
    "\n",
    "# Step 3: Initialize your figure\n",
    "\n",
    "# Step 4: Update layout\n",
    "\n",
    "# Step 5: Annotate"
   ]
  }
 ],
 "metadata": {
  "kernelspec": {
   "display_name": "Python 3 (ipykernel)",
   "language": "python",
   "name": "python3"
  },
  "language_info": {
   "codemirror_mode": {
    "name": "ipython",
    "version": 3
   },
   "file_extension": ".py",
   "mimetype": "text/x-python",
   "name": "python",
   "nbconvert_exporter": "python",
   "pygments_lexer": "ipython3",
   "version": "3.8.9"
  }
 },
 "nbformat": 4,
 "nbformat_minor": 5
}